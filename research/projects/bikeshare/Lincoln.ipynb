{
  "cells": [
    {
      "cell_type": "raw",
      "metadata": {},
      "source": [
        "---\n",
        "title: \"Bikeshare in Lincoln\"\n",
        "sidebar: Project\n",
        "section-divs: true\n",
        "echo: false\n",
        "\n",
        "---"
      ],
      "id": "d0e41bdf"
    },
    {
      "cell_type": "code",
      "metadata": {},
      "source": [
        "import pandas as pd\n",
        "import folium\n"
      ],
      "id": "3bd2967c",
      "execution_count": null,
      "outputs": []
    },
    {
      "cell_type": "markdown",
      "metadata": {},
      "source": [
        "## Map of Lincoln showing all the bikeshare stations\n"
      ],
      "id": "711d06d9"
    },
    {
      "cell_type": "code",
      "metadata": {},
      "source": [
        "import json\n",
        "\n",
        "with open(\"data/lincoln/kiosks_lincoln.json\", \"r\") as f:\n",
        "    coords = json.load(f)\n",
        "\n",
        "\n",
        "\n",
        "mymap = folium.Map(location=[40.81712,-96.70084], zoom_start=14)\n",
        "\n",
        "# Add markers for each coordinate\n",
        "for kiosk, coord in coords.items():\n",
        "    lat, lon = map(float, coord.split(','))\n",
        "    folium.Marker([lat, lon], popup=kiosk).add_to(mymap)\n",
        "\n",
        "\n",
        "mymap\n"
      ],
      "id": "2cc25c3a",
      "execution_count": null,
      "outputs": []
    },
    {
      "cell_type": "markdown",
      "metadata": {},
      "source": [
        "## Most used stations graph\n"
      ],
      "id": "3c310199"
    },
    {
      "cell_type": "code",
      "metadata": {},
      "source": [
        "import plotly.express as px\n",
        "\n",
        "df = pd.read_csv(\"data/lincoln/LNK_Bike_Trips_wt_avg_time_bin.csv\")\n",
        "\n",
        "# Sort the DataFrame by 'Total_Trips' column\n",
        "df_sorted = df.sort_values(by='Total_Trips', ascending=False)\n",
        "\n",
        "# Select the top 15 rows\n",
        "top_kiosks = df_sorted.head(20)\n",
        "\n",
        "# Plot using Plotly\n",
        "fig = px.bar(top_kiosks, x='Checkout_Kiosk_Coordinates', y='Total_Trips',)\n",
        "\n",
        "# rename the x-axis label\n",
        "fig.update_xaxes(title_text='Checkout Kiosk Address')\n",
        "\n",
        "# rename the y-axis label\n",
        "fig.update_yaxes(title_text='Total Trips')\n",
        "\n",
        "# change the angle of the x-axis labels\n",
        "fig.update_layout(xaxis_tickangle=-45)\n",
        "\n",
        "\n",
        "fig.show()\n"
      ],
      "id": "36ab9e3a",
      "execution_count": null,
      "outputs": []
    },
    {
      "cell_type": "markdown",
      "metadata": {},
      "source": [
        "# Bikeshare Vs. Transit\n",
        "For both Lincoln and Omaha, we were interested in how long it would take to make bikeshare trips by transit. We used Google Directions API with the origin and destination station locations for trips (excluding those starting and ending at the same station). The results are enlightening and suggest bikeshare could provide a good complement for transit where trip lengths are short or trip density is low, such that running large buses would be inefficient. The results for Lincoln are summarized below. Note: these results do not fully capture wait time induced by high headway (i.e., low frequency) bus service on most routes in both cities. For example, the bus running near Dr. Hawkins' house runs once per hour, whereas a bike would (fingers crossed) be immediately available if there was a bikeshare station at this location.\n",
        "\n",
        "| Bikeshare:Transit Ratio (<1.0 = bikeshare faster than transit) |\n",
        "|-------------------------|------|\n",
        "| Minimum ratio           | 0.44 |\n",
        "| Maximum ratio           | 0.92 |\n",
        "| Mean ratio              | 0.61 |\n",
        "| Median ratio            | 0.57 |"
      ],
      "id": "a96c7477"
    }
  ],
  "metadata": {
    "kernelspec": {
      "name": "python3",
      "language": "python",
      "display_name": "Python 3 (ipykernel)"
    }
  },
  "nbformat": 4,
  "nbformat_minor": 5
}