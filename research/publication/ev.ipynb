{
  "cells": [
    {
      "cell_type": "raw",
      "metadata": {},
      "source": [
        "---\n",
        "title: \"EV Adoption in the US Midwest\"\n",
        "sidebar: Publication\n",
        "section-divs: true\n",
        "toc: false\n",
        "echo: false\n",
        "---"
      ],
      "id": "c11aff64"
    },
    {
      "cell_type": "code",
      "metadata": {},
      "source": [
        "import ev_adopt_graphs.graphs as gh"
      ],
      "id": "487376b4",
      "execution_count": null,
      "outputs": []
    },
    {
      "cell_type": "markdown",
      "metadata": {},
      "source": [
        "# Introduction\n",
        "\n",
        "Transportation is the largest greenhouse gas (GHG) emissions source in the United States (28 percent). As such, reducing emissions from this sector is an important step towards addressing climate change impacts. One strategy to address this impact is the electrification of personal vehicles. In this study, we focus on electric vehicle adoption factors. Past studies on this topic have framed the adoption around small vehicles. However, we know that most Americans drive larger vehicles (e.g., SUVs, minivans, and pickup trucks). \n",
        "\n",
        "# Survey Design"
      ],
      "id": "da6dbad3"
    },
    {
      "cell_type": "code",
      "metadata": {},
      "source": [
        "#| label: fig-polar\n",
        "#| fig-cap: A line plot on a polar axis\n",
        "fig = gh.get_fig_survey_locations()\n",
        "# fig.update_layout(title_text=f\"Next Vehicle Choice By Household Size\", font_size=10)\n",
        "\n",
        "fig.show()"
      ],
      "id": "fig-polar",
      "execution_count": null,
      "outputs": []
    },
    {
      "cell_type": "code",
      "metadata": {},
      "source": [
        "fig = gh.get_fig_next_veh_by_hh_size_graph()\n",
        "# fig.update_layout(title_text=f\"Next Vehicle Choice By Household Size\", font_size=10)\n",
        "\n",
        "fig.show()"
      ],
      "id": "46c7f488",
      "execution_count": null,
      "outputs": []
    },
    {
      "cell_type": "code",
      "metadata": {},
      "source": [
        "fig = gh.get_fig_off_freq_by_occ()\n",
        "# fig.update_layout(title_text=f\"Off-road driving frequency by expected next vehicle type\", font_size=10)\n",
        "\n",
        "fig.show()"
      ],
      "id": "8354ea4c",
      "execution_count": null,
      "outputs": []
    },
    {
      "cell_type": "code",
      "metadata": {},
      "source": [
        "fig = gh.get_fig_off_road_by_next_veh()\n",
        "\n",
        "\n",
        "# fig.update_layout(title_text=f\"Off-road driving frequency by expected next vehicle type\", font_size=10)\n",
        "\n",
        "fig.show()"
      ],
      "id": "44cf39ab",
      "execution_count": null,
      "outputs": []
    },
    {
      "cell_type": "code",
      "metadata": {},
      "source": [
        "fig = gh.get_fig_time_fuel_type()\n",
        "\n",
        "# fig.update_layout(title_text=f\"Next vehicle type by next vehicle purchase time\", font_size=10)\n",
        "\n",
        "fig.show()"
      ],
      "id": "90430331",
      "execution_count": null,
      "outputs": []
    },
    {
      "cell_type": "code",
      "metadata": {},
      "source": [
        "fig = gh.get_fig_parking()\n",
        "\n",
        "# fig.update_layout(title_text=f\"Charging Locations\", font_size=10)\n",
        "\n",
        "fig.show()\n"
      ],
      "id": "033dbb09",
      "execution_count": null,
      "outputs": []
    },
    {
      "cell_type": "code",
      "metadata": {},
      "source": [
        "fig = gh.get_fig_sankey_curr_sp_veh()\n",
        "# fig.update_layout(title_text=f\"Sankey Diagram: curr -> SP\", font_size=10)\n",
        "\n",
        "fig.show()"
      ],
      "id": "5befb483",
      "execution_count": null,
      "outputs": []
    },
    {
      "cell_type": "code",
      "metadata": {},
      "source": [
        "fig = gh.get_fig_sankey_curr_next()\n",
        "# fig.update_layout(title_text=f\"Sankey Diagram: Curr -> Next\", font_size=10)\n",
        "\n",
        "\n",
        "fig.show()"
      ],
      "id": "702c0b28",
      "execution_count": null,
      "outputs": []
    }
  ],
  "metadata": {
    "kernelspec": {
      "name": "conda-env-geo_env-py",
      "language": "python",
      "display_name": "Python [conda env:geo_env]"
    }
  },
  "nbformat": 4,
  "nbformat_minor": 5
}